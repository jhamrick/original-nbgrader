{
 "metadata": {
  "kernelspec": {
   "codemirror_mode": {
    "name": "python",
    "version": 2
   },
   "display_name": "Python 2",
   "language": "python",
   "name": "python2"
  },
  "name": "",
  "signature": "sha256:aaa7a56beb3ed684199c24ff225900862ea27650f7a341924bfaed3f08f4aee5"
 },
 "nbformat": 3,
 "nbformat_minor": 0,
 "worksheets": [
  {
   "cells": [
    {
     "cell_type": "heading",
     "level": 1,
     "metadata": {},
     "source": [
      "Example Assignment"
     ]
    },
    {
     "cell_type": "markdown",
     "metadata": {},
     "source": [
      "---"
     ]
    },
    {
     "cell_type": "markdown",
     "metadata": {},
     "source": [
      "* <a href=\"#Problem-1\">Problem 1</a>\n",
      "\t* <a href=\"#Part-A\">Part A</a>\n",
      "\t* <a href=\"#Part-B\">Part B</a>\n",
      "* <a href=\"#Problem-2\">Problem 2</a>"
     ]
    },
    {
     "cell_type": "markdown",
     "metadata": {},
     "source": [
      "Before you turn this problem in, make sure everything runs\n",
      "as expected. First, **restart the kernel** (in the menubar, select\n",
      "Kernel$\\rightarrow$Restart) and then **run all cells** (in the\n",
      "menubar, select Cell$\\rightarrow$Run All).\n",
      "\n",
      "Make sure you fill in any place that says `YOUR CODE HERE` or **YOUR\n",
      "ANSWER HERE**, as well as your name and collaborators below:\n"
     ]
    },
    {
     "cell_type": "code",
     "collapsed": false,
     "input": [
      "NAME = \"Jane Doe\"\n",
      "COLLABORATORS = \"n/a\" "
     ],
     "language": "python",
     "metadata": {
      "assignment": {
       "cell_type": "release"
      }
     },
     "outputs": []
    },
    {
     "cell_type": "markdown",
     "metadata": {},
     "source": [
      "---"
     ]
    },
    {
     "cell_type": "heading",
     "level": 1,
     "metadata": {
      "grade": true
     },
     "source": [
      "Problem 1"
     ]
    },
    {
     "cell_type": "markdown",
     "metadata": {},
     "source": [
      "Some instructions here for students to do stuff."
     ]
    },
    {
     "cell_type": "heading",
     "level": 2,
     "metadata": {},
     "source": [
      "Part A"
     ]
    },
    {
     "cell_type": "code",
     "collapsed": false,
     "input": [
      "def hello(name):\n",
      "    # YOUR CODE HERE\n",
      "    return \"Hello, {}!\".format(name)"
     ],
     "language": "python",
     "metadata": {
      "assignment": {
       "cell_type": "grade"
      },
      "grade": true
     },
     "outputs": []
    },
    {
     "cell_type": "code",
     "collapsed": false,
     "input": [
      "hello(\"Jessica\")"
     ],
     "language": "python",
     "metadata": {},
     "outputs": []
    },
    {
     "cell_type": "heading",
     "level": 2,
     "metadata": {},
     "source": [
      "Part B"
     ]
    },
    {
     "cell_type": "code",
     "collapsed": false,
     "input": [
      "def goodbye(name):\n",
      "    # YOUR CODE HERE\n",
      "    return \"Goodbye, Jessica\""
     ],
     "language": "python",
     "metadata": {
      "assignment": {
       "cell_type": "grade"
      },
      "grade": true
     },
     "outputs": []
    },
    {
     "cell_type": "code",
     "collapsed": false,
     "input": [
      "goodbye(\"Jessica\")"
     ],
     "language": "python",
     "metadata": {},
     "outputs": []
    },
    {
     "cell_type": "heading",
     "level": 1,
     "metadata": {
      "grade": true
     },
     "source": [
      "Problem 2"
     ]
    },
    {
     "cell_type": "markdown",
     "metadata": {},
     "source": [
      "In one sentence, describe why IPython is awesome."
     ]
    },
    {
     "cell_type": "markdown",
     "metadata": {
      "assignment": {
       "cell_type": "grade"
      },
      "grade": true
     },
     "source": [
      "IPython is awesome because it makes coding in Python easy."
     ]
    }
   ],
   "metadata": {}
  }
 ]
}