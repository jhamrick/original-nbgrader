{
 "metadata": {
  "kernelspec": {
   "codemirror_mode": {
    "name": "python",
    "version": 2
   },
   "display_name": "Python 2",
   "language": "python",
   "name": "python2"
  },
  "name": "",
  "signature": "sha256:36d4ac4c0f6329de0f4aa7fd7776691c7759f9525349ba78636cbd6ee3302101"
 },
 "nbformat": 3,
 "nbformat_minor": 0,
 "worksheets": [
  {
   "cells": [
    {
     "cell_type": "markdown",
     "metadata": {},
     "source": [
      "# Example Assignment"
     ]
    },
    {
     "cell_type": "markdown",
     "metadata": {
      "assignment": {
       "cell_type": "-"
      }
     },
     "source": [
      "* <a href=\"#Problem-1\">Problem 1</a>\n",
      "* <a href=\"#Problem-2\">Problem 2</a>\n",
      "\t* <a href=\"#Part-A\">Part A</a>\n",
      "\t* <a href=\"#Part-B\">Part B</a>\n",
      "\t* <a href=\"#Part-C\">Part C</a>"
     ]
    },
    {
     "cell_type": "markdown",
     "metadata": {},
     "source": [
      "---"
     ]
    },
    {
     "cell_type": "code",
     "collapsed": false,
     "input": [
      "# import plotting libraries\n",
      "%matplotlib inline\n",
      "import matplotlib.pyplot as plt"
     ],
     "language": "python",
     "metadata": {},
     "outputs": []
    },
    {
     "cell_type": "heading",
     "level": 2,
     "metadata": {},
     "source": [
      "Problem 1"
     ]
    },
    {
     "cell_type": "markdown",
     "metadata": {
      "assignment": {
       "cell_type": "-"
      }
     },
     "source": [
      "Write a function that returns a list of numbers, such that $x_i=i^2$, for $1\\leq i \\leq n$. Make sure it handles the case where $n<1$ by raising a `ValueError`."
     ]
    },
    {
     "cell_type": "code",
     "collapsed": false,
     "input": [
      "def squares(n):\n",
      "    \"\"\"Compute the squares of numbers from 1 to n, such that the \n",
      "    ith element of the returned list equals i^2.\n",
      "    \n",
      "    \"\"\"\n",
      "    if n < 1:\n",
      "        raise ValueError(\"n must be greater than or equal to 1\")\n",
      "    return [i ** 2 for i in xrange(n)]"
     ],
     "language": "python",
     "metadata": {
      "assignment": {
       "cell_type": "grade",
       "id": "squares",
       "points": "2"
      }
     },
     "outputs": []
    },
    {
     "cell_type": "markdown",
     "metadata": {},
     "source": [
      "Your function should print `[1, 4, 9, 16, 25, 36, 49, 64, 81, 100]` for $n=10$. Check that it does:"
     ]
    },
    {
     "cell_type": "code",
     "collapsed": false,
     "input": [
      "squares(10)"
     ],
     "language": "python",
     "metadata": {
      "assignment": {
       "cell_type": "-"
      }
     },
     "outputs": [
      {
       "metadata": {},
       "output_type": "pyout",
       "prompt_number": 3,
       "text": [
        "[0, 1, 4, 9, 16, 25, 36, 49, 64, 81]"
       ]
      }
     ],
     "prompt_number": 3
    },
    {
     "cell_type": "code",
     "collapsed": false,
     "input": [
      "\"\"\"Check that squares returns the correct output for several inputs\"\"\"\n",
      "from nbgrader.tests import assert_equal\n",
      "assert_equal(squares(1), [1])\n",
      "assert_equal(squares(2), [1, 4])\n",
      "assert_equal(squares(10), [1, 4, 9, 16, 25, 36, 49, 64, 81, 100])\n",
      "assert_equal(squares(11), [1, 4, 9, 16, 25, 36, 49, 64, 81, 100, 121])"
     ],
     "language": "python",
     "metadata": {
      "assignment": {
       "cell_type": "autograder",
       "id": "correct_squares"
      }
     },
     "outputs": [
      {
       "metadata": {},
       "output_type": "stream",
       "stream": "stdout",
       "text": [
        "Score: 0.0 / 1.0"
       ]
      },
      {
       "ename": "AssertionError",
       "evalue": "[0] != [1]",
       "output_type": "pyerr",
       "traceback": [
        "\u001b[0;31m---------------------------------------------------------------------------\u001b[0m",
        "\u001b[0;31mAssertionError\u001b[0m                            Traceback (most recent call last)",
        "\u001b[0;32m<ipython-input-4-a5be7542d6a1>\u001b[0m in \u001b[0;36m<module>\u001b[0;34m()\u001b[0m\n\u001b[1;32m      1\u001b[0m \u001b[0;34m\"\"\"Check that squares returns the correct output for several inputs\"\"\"\u001b[0m\u001b[0;34m\u001b[0m\u001b[0m\n\u001b[1;32m      2\u001b[0m \u001b[0;32mfrom\u001b[0m \u001b[0mnbgrader\u001b[0m\u001b[0;34m.\u001b[0m\u001b[0mtests\u001b[0m \u001b[0;32mimport\u001b[0m \u001b[0massert_equal\u001b[0m\u001b[0;34m\u001b[0m\u001b[0m\n\u001b[0;32m----> 3\u001b[0;31m \u001b[0massert_equal\u001b[0m\u001b[0;34m(\u001b[0m\u001b[0msquares\u001b[0m\u001b[0;34m(\u001b[0m\u001b[0;36m1\u001b[0m\u001b[0;34m)\u001b[0m\u001b[0;34m,\u001b[0m \u001b[0;34m[\u001b[0m\u001b[0;36m1\u001b[0m\u001b[0;34m]\u001b[0m\u001b[0;34m)\u001b[0m\u001b[0;34m\u001b[0m\u001b[0m\n\u001b[0m\u001b[1;32m      4\u001b[0m \u001b[0massert_equal\u001b[0m\u001b[0;34m(\u001b[0m\u001b[0msquares\u001b[0m\u001b[0;34m(\u001b[0m\u001b[0;36m2\u001b[0m\u001b[0;34m)\u001b[0m\u001b[0;34m,\u001b[0m \u001b[0;34m[\u001b[0m\u001b[0;36m1\u001b[0m\u001b[0;34m,\u001b[0m \u001b[0;36m4\u001b[0m\u001b[0;34m]\u001b[0m\u001b[0;34m)\u001b[0m\u001b[0;34m\u001b[0m\u001b[0m\n\u001b[1;32m      5\u001b[0m \u001b[0massert_equal\u001b[0m\u001b[0;34m(\u001b[0m\u001b[0msquares\u001b[0m\u001b[0;34m(\u001b[0m\u001b[0;36m10\u001b[0m\u001b[0;34m)\u001b[0m\u001b[0;34m,\u001b[0m \u001b[0;34m[\u001b[0m\u001b[0;36m1\u001b[0m\u001b[0;34m,\u001b[0m \u001b[0;36m4\u001b[0m\u001b[0;34m,\u001b[0m \u001b[0;36m9\u001b[0m\u001b[0;34m,\u001b[0m \u001b[0;36m16\u001b[0m\u001b[0;34m,\u001b[0m \u001b[0;36m25\u001b[0m\u001b[0;34m,\u001b[0m \u001b[0;36m36\u001b[0m\u001b[0;34m,\u001b[0m \u001b[0;36m49\u001b[0m\u001b[0;34m,\u001b[0m \u001b[0;36m64\u001b[0m\u001b[0;34m,\u001b[0m \u001b[0;36m81\u001b[0m\u001b[0;34m,\u001b[0m \u001b[0;36m100\u001b[0m\u001b[0;34m]\u001b[0m\u001b[0;34m)\u001b[0m\u001b[0;34m\u001b[0m\u001b[0m\n",
        "\u001b[0;32m/usr/local/lib/python2.7/site-packages/nose/tools/trivial.pyc\u001b[0m in \u001b[0;36meq_\u001b[0;34m(a, b, msg)\u001b[0m\n\u001b[1;32m     27\u001b[0m     \"\"\"\n\u001b[1;32m     28\u001b[0m     \u001b[0;32mif\u001b[0m \u001b[0;32mnot\u001b[0m \u001b[0ma\u001b[0m \u001b[0;34m==\u001b[0m \u001b[0mb\u001b[0m\u001b[0;34m:\u001b[0m\u001b[0;34m\u001b[0m\u001b[0m\n\u001b[0;32m---> 29\u001b[0;31m         \u001b[0;32mraise\u001b[0m \u001b[0mAssertionError\u001b[0m\u001b[0;34m(\u001b[0m\u001b[0mmsg\u001b[0m \u001b[0;32mor\u001b[0m \u001b[0;34m\"%r != %r\"\u001b[0m \u001b[0;34m%\u001b[0m \u001b[0;34m(\u001b[0m\u001b[0ma\u001b[0m\u001b[0;34m,\u001b[0m \u001b[0mb\u001b[0m\u001b[0;34m)\u001b[0m\u001b[0;34m)\u001b[0m\u001b[0;34m\u001b[0m\u001b[0m\n\u001b[0m\u001b[1;32m     30\u001b[0m \u001b[0;34m\u001b[0m\u001b[0m\n\u001b[1;32m     31\u001b[0m \u001b[0;34m\u001b[0m\u001b[0m\n",
        "\u001b[0;31mAssertionError\u001b[0m: [0] != [1]"
       ]
      }
     ]
    },
    {
     "cell_type": "code",
     "collapsed": false,
     "input": [
      "\"\"\"Check that squares raises an error for invalid inputs\"\"\"\n",
      "from nbgrader.tests import assert_raises\n",
      "assert_raises(ValueError, squares, 0)\n",
      "assert_raises(ValueError, squares, -4)"
     ],
     "language": "python",
     "metadata": {
      "assignment": {
       "cell_type": "autograder",
       "id": "squares_invalid_input"
      }
     },
     "outputs": [
      {
       "metadata": {},
       "output_type": "stream",
       "stream": "stdout",
       "text": [
        "Score: 1.0 / 1.0"
       ]
      }
     ]
    },
    {
     "cell_type": "markdown",
     "metadata": {},
     "source": [
      "---"
     ]
    },
    {
     "cell_type": "heading",
     "level": 2,
     "metadata": {},
     "source": [
      "Problem 2"
     ]
    },
    {
     "cell_type": "heading",
     "level": 3,
     "metadata": {},
     "source": [
      "Part A"
     ]
    },
    {
     "cell_type": "markdown",
     "metadata": {},
     "source": [
      "Using your `squares` function, write a function that computes the sum of the squares of the numbers from 1 to $n$. Your function should call the `squares` function -- it should NOT reimplement its functionality."
     ]
    },
    {
     "cell_type": "code",
     "collapsed": false,
     "input": [
      "def sum_of_squares(n):\n",
      "    \"\"\"Compute the sum of the squares of numbers from 1 to n.\"\"\"\n",
      "    return sum(squares(n))"
     ],
     "language": "python",
     "metadata": {
      "assignment": {
       "cell_type": "grade",
       "id": "sum_of_squares",
       "points": "1"
      }
     },
     "outputs": []
    },
    {
     "cell_type": "markdown",
     "metadata": {},
     "source": [
      "The sum of squares from 1 to 10 should be 385. Verify that this is the answer you get:"
     ]
    },
    {
     "cell_type": "code",
     "collapsed": false,
     "input": [
      "sum_of_squares(10)"
     ],
     "language": "python",
     "metadata": {},
     "outputs": [
      {
       "metadata": {},
       "output_type": "pyout",
       "prompt_number": 7,
       "text": [
        "285"
       ]
      }
     ],
     "prompt_number": 7
    },
    {
     "cell_type": "code",
     "collapsed": false,
     "input": [
      "\"\"\"Check that sum_of_squares returns the correct answer for various inputs.\"\"\"\n",
      "assert_equal(sum_of_squares(1), 1)\n",
      "assert_equal(sum_of_squares(2), 5)\n",
      "assert_equal(sum_of_squares(10), 385)\n",
      "assert_equal(sum_of_squares(11), 506)"
     ],
     "language": "python",
     "metadata": {
      "assignment": {
       "cell_type": "autograder",
       "id": "correct_sum_of_squares"
      }
     },
     "outputs": [
      {
       "metadata": {},
       "output_type": "stream",
       "stream": "stdout",
       "text": [
        "Score: 0.0 / 0.5"
       ]
      },
      {
       "ename": "AssertionError",
       "evalue": "0 != 1",
       "output_type": "pyerr",
       "traceback": [
        "\u001b[0;31m---------------------------------------------------------------------------\u001b[0m",
        "\u001b[0;31mAssertionError\u001b[0m                            Traceback (most recent call last)",
        "\u001b[0;32m<ipython-input-8-54b95b55a74e>\u001b[0m in \u001b[0;36m<module>\u001b[0;34m()\u001b[0m\n\u001b[1;32m      1\u001b[0m \u001b[0;34m\"\"\"Check that sum_of_squares returns the correct answer for various inputs.\"\"\"\u001b[0m\u001b[0;34m\u001b[0m\u001b[0m\n\u001b[0;32m----> 2\u001b[0;31m \u001b[0massert_equal\u001b[0m\u001b[0;34m(\u001b[0m\u001b[0msum_of_squares\u001b[0m\u001b[0;34m(\u001b[0m\u001b[0;36m1\u001b[0m\u001b[0;34m)\u001b[0m\u001b[0;34m,\u001b[0m \u001b[0;36m1\u001b[0m\u001b[0;34m)\u001b[0m\u001b[0;34m\u001b[0m\u001b[0m\n\u001b[0m\u001b[1;32m      3\u001b[0m \u001b[0massert_equal\u001b[0m\u001b[0;34m(\u001b[0m\u001b[0msum_of_squares\u001b[0m\u001b[0;34m(\u001b[0m\u001b[0;36m2\u001b[0m\u001b[0;34m)\u001b[0m\u001b[0;34m,\u001b[0m \u001b[0;36m5\u001b[0m\u001b[0;34m)\u001b[0m\u001b[0;34m\u001b[0m\u001b[0m\n\u001b[1;32m      4\u001b[0m \u001b[0massert_equal\u001b[0m\u001b[0;34m(\u001b[0m\u001b[0msum_of_squares\u001b[0m\u001b[0;34m(\u001b[0m\u001b[0;36m10\u001b[0m\u001b[0;34m)\u001b[0m\u001b[0;34m,\u001b[0m \u001b[0;36m385\u001b[0m\u001b[0;34m)\u001b[0m\u001b[0;34m\u001b[0m\u001b[0m\n\u001b[1;32m      5\u001b[0m \u001b[0massert_equal\u001b[0m\u001b[0;34m(\u001b[0m\u001b[0msum_of_squares\u001b[0m\u001b[0;34m(\u001b[0m\u001b[0;36m11\u001b[0m\u001b[0;34m)\u001b[0m\u001b[0;34m,\u001b[0m \u001b[0;36m506\u001b[0m\u001b[0;34m)\u001b[0m\u001b[0;34m\u001b[0m\u001b[0m\n",
        "\u001b[0;32m/usr/local/lib/python2.7/site-packages/nose/tools/trivial.pyc\u001b[0m in \u001b[0;36meq_\u001b[0;34m(a, b, msg)\u001b[0m\n\u001b[1;32m     27\u001b[0m     \"\"\"\n\u001b[1;32m     28\u001b[0m     \u001b[0;32mif\u001b[0m \u001b[0;32mnot\u001b[0m \u001b[0ma\u001b[0m \u001b[0;34m==\u001b[0m \u001b[0mb\u001b[0m\u001b[0;34m:\u001b[0m\u001b[0;34m\u001b[0m\u001b[0m\n\u001b[0;32m---> 29\u001b[0;31m         \u001b[0;32mraise\u001b[0m \u001b[0mAssertionError\u001b[0m\u001b[0;34m(\u001b[0m\u001b[0mmsg\u001b[0m \u001b[0;32mor\u001b[0m \u001b[0;34m\"%r != %r\"\u001b[0m \u001b[0;34m%\u001b[0m \u001b[0;34m(\u001b[0m\u001b[0ma\u001b[0m\u001b[0;34m,\u001b[0m \u001b[0mb\u001b[0m\u001b[0;34m)\u001b[0m\u001b[0;34m)\u001b[0m\u001b[0;34m\u001b[0m\u001b[0m\n\u001b[0m\u001b[1;32m     30\u001b[0m \u001b[0;34m\u001b[0m\u001b[0m\n\u001b[1;32m     31\u001b[0m \u001b[0;34m\u001b[0m\u001b[0m\n",
        "\u001b[0;31mAssertionError\u001b[0m: 0 != 1"
       ]
      }
     ]
    },
    {
     "cell_type": "code",
     "collapsed": false,
     "input": [
      "\"\"\"Check that sum_of_squares relies on squares.\"\"\"\n",
      "orig_squares = squares\n",
      "del squares\n",
      "try:\n",
      "    assert_raises(NameError, sum_of_squares, 1)\n",
      "except AssertionError:\n",
      "    raise AssertionError(\"sum_of_squares does not use squares\")\n",
      "finally:\n",
      "    squares = orig_squares"
     ],
     "language": "python",
     "metadata": {
      "assignment": {
       "cell_type": "autograder",
       "id": "sum_of_squares_uses_squares"
      }
     },
     "outputs": [
      {
       "metadata": {},
       "output_type": "stream",
       "stream": "stdout",
       "text": [
        "Score: 0.5 / 0.5"
       ]
      }
     ]
    },
    {
     "cell_type": "heading",
     "level": 3,
     "metadata": {},
     "source": [
      "Part B"
     ]
    },
    {
     "cell_type": "markdown",
     "metadata": {},
     "source": [
      "Using LaTeX math notation, write out the equation that is implemented by your `sum_of_squares` function."
     ]
    },
    {
     "cell_type": "markdown",
     "metadata": {
      "assignment": {
       "cell_type": "grade",
       "id": "sum_of_squares_equation",
       "points": "1"
      }
     },
     "source": [
      "$\\sum_{i=1}^n i^2$"
     ]
    },
    {
     "cell_type": "heading",
     "level": 3,
     "metadata": {},
     "source": [
      "Part C"
     ]
    },
    {
     "cell_type": "markdown",
     "metadata": {},
     "source": [
      "Create a plot of the sum of squares for $n=1$ to $n=15$. Make sure to appropriately label the $x$-axis and $y$-axis, and to give the plot a title. Set the $x$-axis limits to be 1 (minimum) and 15 (maximum)."
     ]
    },
    {
     "cell_type": "code",
     "collapsed": false,
     "input": [
      "fig, ax = plt.subplots() # do not delete this line!\n",
      "x = range(1, 16)\n",
      "y = [sum_of_squares(x[i]) for i in xrange(len(x))]\n",
      "ax.plot(x, y)\n",
      "ax.set_title(\"Sum of squares from 1 to $n$\")\n",
      "ax.set_xlabel(\"$n$\")\n",
      "ax.set_ylabel(\"sum\")"
     ],
     "language": "python",
     "metadata": {
      "assignment": {
       "cell_type": "grade",
       "id": "sum_of_squares_plot",
       "points": "1"
      }
     },
     "outputs": [
      {
       "metadata": {},
       "output_type": "pyout",
       "prompt_number": 10,
       "text": [
        "<matplotlib.text.Text at 0x115484b90>"
       ]
      },
      {
       "metadata": {},
       "output_type": "display_data",
       "png": "[encoded data removed]",
       "text": [
        "<matplotlib.figure.Figure at 0x115435790>"
       ]
      }
     ],
     "prompt_number": 10
    },
    {
     "cell_type": "code",
     "collapsed": false,
     "input": [
      "\"\"\"Check that the axis limits are correct.\"\"\"\n",
      "assert_equal(ax.get_xlim(), (1.0, 15.0))"
     ],
     "language": "python",
     "metadata": {
      "assignment": {
       "cell_type": "autograder",
       "id": "xaxis_limits"
      }
     },
     "outputs": [
      {
       "metadata": {},
       "output_type": "stream",
       "stream": "stdout",
       "text": [
        "Score: 0.0 / 0.166666666667"
       ]
      },
      {
       "ename": "AssertionError",
       "evalue": "(0.0, 16.0) != (1.0, 15.0)",
       "output_type": "pyerr",
       "traceback": [
        "\u001b[0;31m---------------------------------------------------------------------------\u001b[0m",
        "\u001b[0;31mAssertionError\u001b[0m                            Traceback (most recent call last)",
        "\u001b[0;32m<ipython-input-11-7eaa2f5456f5>\u001b[0m in \u001b[0;36m<module>\u001b[0;34m()\u001b[0m\n\u001b[1;32m      1\u001b[0m \u001b[0;34m\"\"\"Check that the axis limits are correct.\"\"\"\u001b[0m\u001b[0;34m\u001b[0m\u001b[0m\n\u001b[0;32m----> 2\u001b[0;31m \u001b[0massert_equal\u001b[0m\u001b[0;34m(\u001b[0m\u001b[0max\u001b[0m\u001b[0;34m.\u001b[0m\u001b[0mget_xlim\u001b[0m\u001b[0;34m(\u001b[0m\u001b[0;34m)\u001b[0m\u001b[0;34m,\u001b[0m \u001b[0;34m(\u001b[0m\u001b[0;36m1.0\u001b[0m\u001b[0;34m,\u001b[0m \u001b[0;36m15.0\u001b[0m\u001b[0;34m)\u001b[0m\u001b[0;34m)\u001b[0m\u001b[0;34m\u001b[0m\u001b[0m\n\u001b[0m",
        "\u001b[0;32m/usr/local/lib/python2.7/site-packages/nose/tools/trivial.pyc\u001b[0m in \u001b[0;36meq_\u001b[0;34m(a, b, msg)\u001b[0m\n\u001b[1;32m     27\u001b[0m     \"\"\"\n\u001b[1;32m     28\u001b[0m     \u001b[0;32mif\u001b[0m \u001b[0;32mnot\u001b[0m \u001b[0ma\u001b[0m \u001b[0;34m==\u001b[0m \u001b[0mb\u001b[0m\u001b[0;34m:\u001b[0m\u001b[0;34m\u001b[0m\u001b[0m\n\u001b[0;32m---> 29\u001b[0;31m         \u001b[0;32mraise\u001b[0m \u001b[0mAssertionError\u001b[0m\u001b[0;34m(\u001b[0m\u001b[0mmsg\u001b[0m \u001b[0;32mor\u001b[0m \u001b[0;34m\"%r != %r\"\u001b[0m \u001b[0;34m%\u001b[0m \u001b[0;34m(\u001b[0m\u001b[0ma\u001b[0m\u001b[0;34m,\u001b[0m \u001b[0mb\u001b[0m\u001b[0;34m)\u001b[0m\u001b[0;34m)\u001b[0m\u001b[0;34m\u001b[0m\u001b[0m\n\u001b[0m\u001b[1;32m     30\u001b[0m \u001b[0;34m\u001b[0m\u001b[0m\n\u001b[1;32m     31\u001b[0m \u001b[0;34m\u001b[0m\u001b[0m\n",
        "\u001b[0;31mAssertionError\u001b[0m: (0.0, 16.0) != (1.0, 15.0)"
       ]
      }
     ]
    },
    {
     "cell_type": "code",
     "collapsed": false,
     "input": [
      "\"\"\"Check that the xlabel is set.\"\"\"\n",
      "from nbgrader.tests import assert_unequal\n",
      "assert_unequal(ax.get_xlabel(), \"\", \"xlabel not set\")"
     ],
     "language": "python",
     "metadata": {
      "assignment": {
       "cell_type": "autograder",
       "id": "xlabel"
      }
     },
     "outputs": [
      {
       "metadata": {},
       "output_type": "stream",
       "stream": "stdout",
       "text": [
        "Score: 0.166666666667 / 0.166666666667"
       ]
      }
     ]
    },
    {
     "cell_type": "code",
     "collapsed": false,
     "input": [
      "\"\"\"Check that the ylabel is set.\"\"\"\n",
      "assert_unequal(ax.get_ylabel(), \"\", \"ylabel not set\")"
     ],
     "language": "python",
     "metadata": {
      "assignment": {
       "cell_type": "autograder",
       "id": "ylabel"
      }
     },
     "outputs": [
      {
       "metadata": {},
       "output_type": "stream",
       "stream": "stdout",
       "text": [
        "Score: 0.166666666667 / 0.166666666667"
       ]
      }
     ]
    },
    {
     "cell_type": "code",
     "collapsed": false,
     "input": [
      "\"\"\"Check that the title is set.\"\"\"\n",
      "assert_unequal(ax.get_title(), \"\", \"title not set\")"
     ],
     "language": "python",
     "metadata": {
      "assignment": {
       "cell_type": "autograder",
       "id": "title"
      }
     },
     "outputs": [
      {
       "metadata": {},
       "output_type": "stream",
       "stream": "stdout",
       "text": [
        "Score: 0.166666666667 / 0.166666666667"
       ]
      }
     ]
    },
    {
     "cell_type": "code",
     "collapsed": false,
     "input": [
      "\"\"\"Check that the correct xdata was used.\"\"\"\n",
      "from nbgrader.tests import assert_allclose, assert_same_shape\n",
      "\n",
      "lines = ax.get_lines()\n",
      "assert_equal(len(lines), 1)\n",
      "\n",
      "xdata = lines[0].get_xdata()\n",
      "xdata_correct = np.arange(1, 16)\n",
      "assert_same_shape(xdata, xdata_correct)\n",
      "assert_allclose(xdata, xdata_correct)"
     ],
     "language": "python",
     "metadata": {
      "assignment": {
       "cell_type": "autograder",
       "id": "xdata"
      }
     },
     "outputs": [
      {
       "metadata": {},
       "output_type": "stream",
       "stream": "stdout",
       "text": [
        "Score: 0.166666666667 / 0.166666666667"
       ]
      }
     ]
    },
    {
     "cell_type": "code",
     "collapsed": false,
     "input": [
      "\"\"\"Check that the correct ydata was used.\"\"\"\n",
      "lines = ax.get_lines()\n",
      "assert_equal(len(lines), 1)\n",
      "\n",
      "xdata = lines[0].get_xdata()\n",
      "ydata = lines[0].get_ydata()\n",
      "ydata_correct = [sum_of_squares(x) for x in xdata]\n",
      "assert_same_shape(ydata, ydata_correct)\n",
      "assert_allclose(ydata, ydata_correct)"
     ],
     "language": "python",
     "metadata": {
      "assignment": {
       "cell_type": "autograder",
       "id": "ydata"
      }
     },
     "outputs": [
      {
       "metadata": {},
       "output_type": "stream",
       "stream": "stdout",
       "text": [
        "Score: 0.166666666667 / 0.166666666667"
       ]
      }
     ]
    }
   ],
   "metadata": {}
  }
 ]
}