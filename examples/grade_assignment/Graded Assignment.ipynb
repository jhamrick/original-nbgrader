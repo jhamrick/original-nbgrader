{
 "metadata": {
  "name": "Assignment"
 },
 "nbformat": 3,
 "nbformat_minor": 0,
 "worksheets": [
  {
   "cells": [
    {
     "cell_type": "code",
     "collapsed": false,
     "input": [
      "%load_ext nbgrader\n",
      "%load_autograder example_autograder.py"
     ],
     "language": "python",
     "metadata": {},
     "outputs": []
    },
    {
     "cell_type": "heading",
     "level": 1,
     "metadata": {},
     "source": [
      "Example Assignment"
     ]
    },
    {
     "cell_type": "heading",
     "level": 1,
     "metadata": {
      "grade": true
     },
     "source": [
      "Problem 1"
     ]
    },
    {
     "cell_type": "heading",
     "level": 2,
     "metadata": {},
     "source": [
      "Part A"
     ]
    },
    {
     "cell_type": "code",
     "collapsed": false,
     "input": [
      "def hello(name):\n",
      "    # YOUR CODE HERE\n",
      "    return \"Hello, {}!\".format(name)"
     ],
     "language": "python",
     "metadata": {
      "grade": true,
      "level": "Problem 1/Part A"
     },
     "outputs": []
    },
    {
     "cell_type": "code",
     "collapsed": false,
     "input": [
      "%grade Problem 1/Part A"
     ],
     "language": "python",
     "metadata": {},
     "outputs": [
      {
       "output_type": "stream",
       "stream": "stderr",
       "text": [
        "Grade 'hello' with input 'Jessica' ... "
       ]
      },
      {
       "output_type": "stream",
       "stream": "stderr",
       "text": [
        "ok\n",
        "Grade 'hello' with input 'Python' ... "
       ]
      },
      {
       "output_type": "stream",
       "stream": "stderr",
       "text": [
        "ok\n",
        "\n",
        "----------------------------------------------------------------------\n",
        "Ran 2 tests in 0.002s\n",
        "\n",
        "OK\n"
       ]
      },
      {
       "html": [
        "<div style=\"max-height:1000px;max-width:1500px;overflow:auto;\">\n",
        "<table border=\"1\" class=\"dataframe\">\n",
        "  <thead>\n",
        "    <tr style=\"text-align: right;\">\n",
        "      <th></th>\n",
        "      <th>score</th>\n",
        "      <th>max_score</th>\n",
        "    </tr>\n",
        "  </thead>\n",
        "  <tbody>\n",
        "    <tr>\n",
        "      <th>Problem 1/Part A</th>\n",
        "      <td> 1</td>\n",
        "      <td> 1</td>\n",
        "    </tr>\n",
        "  </tbody>\n",
        "</table>\n",
        "<p>1 rows \u00d7 2 columns</p>\n",
        "</div>"
       ],
       "metadata": {},
       "output_type": "pyout",
       "prompt_number": 3,
       "text": [
        "                  score  max_score\n",
        "Problem 1/Part A      1          1\n",
        "\n",
        "[1 rows x 2 columns]"
       ]
      }
     ],
     "prompt_number": 3
    },
    {
     "cell_type": "heading",
     "level": 2,
     "metadata": {},
     "source": [
      "Part B"
     ]
    },
    {
     "cell_type": "code",
     "collapsed": false,
     "input": [
      "def goodbye(name):\n",
      "    # YOUR CODE HERE\n",
      "    return \"Goodbye, Jessica\""
     ],
     "language": "python",
     "metadata": {
      "grade": true,
      "level": "Problem 1/Part B"
     },
     "outputs": []
    },
    {
     "cell_type": "code",
     "collapsed": false,
     "input": [
      "%grade Problem 1/Part B"
     ],
     "language": "python",
     "metadata": {},
     "outputs": [
      {
       "output_type": "stream",
       "stream": "stderr",
       "text": [
        "Grade 'goodbye' with input 'Jessica' ... "
       ]
      },
      {
       "output_type": "stream",
       "stream": "stderr",
       "text": [
        "ok\n",
        "Grade 'goodbye' with input 'Python' ... "
       ]
      },
      {
       "output_type": "stream",
       "stream": "stderr",
       "text": [
        "FAIL\n",
        "\n",
        "======================================================================\n",
        "FAIL: Grade 'goodbye' with input 'Python'\n",
        "----------------------------------------------------------------------\n",
        "Traceback (most recent call last):\n",
        "  File \"/usr/local/lib/python2.7/site-packages/nose/case.py\", line 197, in runTest\n",
        "    self.test(*self.arg)\n",
        "  File \"/Users/jhamrick/project/tools/nbgrader/nbgrader/score.py\", line 28, in wrapped_f\n",
        "    f(*args)\n",
        "  File \"<ipython-input-6-8691efaf29db>\", line 29, in grade_goodbye2\n",
        "    assert_eq(msg, \"Goodbye, Python\")\n",
        "AssertionError: 'Goodbye, Jessica' != 'Goodbye, Python'\n",
        "\n",
        "----------------------------------------------------------------------\n",
        "Ran 2 tests in 0.002s\n",
        "\n",
        "FAILED (failures=1)\n"
       ]
      },
      {
       "html": [
        "<div style=\"max-height:1000px;max-width:1500px;overflow:auto;\">\n",
        "<table border=\"1\" class=\"dataframe\">\n",
        "  <thead>\n",
        "    <tr style=\"text-align: right;\">\n",
        "      <th></th>\n",
        "      <th>score</th>\n",
        "      <th>max_score</th>\n",
        "    </tr>\n",
        "  </thead>\n",
        "  <tbody>\n",
        "    <tr>\n",
        "      <th>Problem 1/Part B</th>\n",
        "      <td> 0.5</td>\n",
        "      <td> 1</td>\n",
        "    </tr>\n",
        "  </tbody>\n",
        "</table>\n",
        "<p>1 rows \u00d7 2 columns</p>\n",
        "</div>"
       ],
       "metadata": {},
       "output_type": "pyout",
       "prompt_number": 6,
       "text": [
        "                  score  max_score\n",
        "Problem 1/Part B    0.5          1\n",
        "\n",
        "[1 rows x 2 columns]"
       ]
      }
     ],
     "prompt_number": 6
    },
    {
     "cell_type": "heading",
     "level": 1,
     "metadata": {
      "grade": true
     },
     "source": [
      "Problem 2"
     ]
    },
    {
     "cell_type": "markdown",
     "metadata": {
      "grade": true,
      "level": "Problem 2"
     },
     "source": [
      "IPython is awesome because it makes coding in Python easy."
     ]
    },
    {
     "cell_type": "heading",
     "level": 1,
     "metadata": {},
     "source": [
      "Autograder"
     ]
    },
    {
     "cell_type": "markdown",
     "metadata": {},
     "source": [
      "The following code was used to grade this assignment:"
     ]
    },
    {
     "cell_type": "markdown",
     "metadata": {},
     "source": [
      "```python\n",
      "from nose.tools import eq_ as assert_eq\n",
      "\n",
      "\n",
      "@score(problem=\"Problem 1/Part A\", points=0.5)\n",
      "def grade_hello1():\n",
      "    \"\"\"Grade 'hello' with input 'Jessica'\"\"\"\n",
      "    msg = hello(\"Jessica\")\n",
      "    assert_eq(msg, \"Hello, Jessica!\")\n",
      "\n",
      "\n",
      "@score(problem=\"Problem 1/Part A\", points=0.5)\n",
      "def grade_hello2():\n",
      "    \"\"\"Grade 'hello' with input 'Python'\"\"\"\n",
      "    msg = hello(\"Python\")\n",
      "    assert_eq(msg, \"Hello, Python!\")\n",
      "\n",
      "\n",
      "@score(problem=\"Problem 1/Part B\", points=0.5)\n",
      "def grade_goodbye1():\n",
      "    \"\"\"Grade 'goodbye' with input 'Jessica'\"\"\"\n",
      "    msg = goodbye(\"Jessica\")\n",
      "    assert_eq(msg, \"Goodbye, Jessica\")\n",
      "\n",
      "\n",
      "@score(problem=\"Problem 1/Part B\", points=0.5)\n",
      "def grade_goodbye2():\n",
      "    \"\"\"Grade 'goodbye' with input 'Python'\"\"\"\n",
      "    msg = goodbye(\"Python\")\n",
      "    assert_eq(msg, \"Goodbye, Python\")\n",
      "\n",
      "```"
     ]
    }
   ],
   "metadata": {}
  }
 ]
}