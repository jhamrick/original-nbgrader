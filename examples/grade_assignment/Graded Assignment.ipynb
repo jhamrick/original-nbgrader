{
 "metadata": {
  "name": "Assignment"
 },
 "nbformat": 3,
 "nbformat_minor": 0,
 "worksheets": [
  {
   "cells": [
    {
     "cell_type": "code",
     "collapsed": false,
     "input": [
      "%load_ext nbgrader\n",
      "%load_autograder example_autograder.py"
     ],
     "language": "python",
     "metadata": {},
     "outputs": []
    },
    {
     "cell_type": "heading",
     "level": 1,
     "metadata": {},
     "source": [
      "Example Assignment"
     ]
    },
    {
     "cell_type": "markdown",
     "metadata": {
      "level": "Example Assignment"
     },
     "source": [
      "---"
     ]
    },
    {
     "cell_type": "markdown",
     "metadata": {
      "level": "Example Assignment"
     },
     "source": [
      "* <a href=\"#Problem-1\">Problem 1</a>\n",
      "\t* <a href=\"#Part-A\">Part A</a>\n",
      "\t* <a href=\"#Part-B\">Part B</a>\n",
      "* <a href=\"#Problem-2\">Problem 2</a>"
     ]
    },
    {
     "cell_type": "markdown",
     "metadata": {
      "level": "Example Assignment"
     },
     "source": [
      "Before you turn this problem in, make sure everything runs\n",
      "as expected. First, **restart the kernel** (in the menubar, select\n",
      "Kernel$\\rightarrow$Restart) and then **run all cells** (in the\n",
      "menubar, select Cell$\\rightarrow$Run All).\n",
      "\n",
      "Make sure you fill in any place that says `YOUR CODE HERE` or **YOUR\n",
      "ANSWER HERE**, as well as your name and collaborators below:\n"
     ]
    },
    {
     "cell_type": "code",
     "collapsed": false,
     "input": [
      "NAME = \"Jane Doe\"\n",
      "COLLABORATORS = \"n/a\" "
     ],
     "language": "python",
     "metadata": {
      "assignment": {
       "cell_type": "release"
      },
      "level": "Example Assignment"
     },
     "outputs": []
    },
    {
     "cell_type": "markdown",
     "metadata": {
      "level": "Example Assignment"
     },
     "source": [
      "---"
     ]
    },
    {
     "cell_type": "heading",
     "level": 1,
     "metadata": {
      "grade": true
     },
     "source": [
      "Problem 1"
     ]
    },
    {
     "cell_type": "markdown",
     "metadata": {
      "level": "Problem 1"
     },
     "source": [
      "Some instructions here for students to do stuff."
     ]
    },
    {
     "cell_type": "heading",
     "level": 2,
     "metadata": {},
     "source": [
      "Part A"
     ]
    },
    {
     "cell_type": "code",
     "collapsed": false,
     "input": [
      "def hello(name):\n",
      "    # YOUR CODE HERE\n",
      "    return \"Hello, {}!\".format(name)"
     ],
     "language": "python",
     "metadata": {
      "assignment": {
       "cell_type": "grade"
      },
      "grade": true,
      "level": "Problem 1/Part A"
     },
     "outputs": []
    },
    {
     "cell_type": "code",
     "collapsed": false,
     "input": [
      "hello(\"Jessica\")"
     ],
     "language": "python",
     "metadata": {
      "level": "Problem 1/Part A"
     },
     "outputs": [
      {
       "metadata": {},
       "output_type": "pyout",
       "prompt_number": 4,
       "text": [
        "'Hello, Jessica!'"
       ]
      }
     ],
     "prompt_number": 4
    },
    {
     "cell_type": "code",
     "collapsed": false,
     "input": [
      "%grade Problem 1/Part A"
     ],
     "language": "python",
     "metadata": {},
     "outputs": [
      {
       "output_type": "stream",
       "stream": "stderr",
       "text": [
        "Grade 'hello' with input 'Jessica' ... "
       ]
      },
      {
       "output_type": "stream",
       "stream": "stderr",
       "text": [
        "ok\n",
        "Grade 'hello' with input 'Python' ... "
       ]
      },
      {
       "output_type": "stream",
       "stream": "stderr",
       "text": [
        "ok\n",
        "\n",
        "----------------------------------------------------------------------\n",
        "Ran 2 tests in 0.003s\n",
        "\n",
        "OK\n"
       ]
      },
      {
       "html": [
        "<div style=\"max-height:1000px;max-width:1500px;overflow:auto;\">\n",
        "<table border=\"1\" class=\"dataframe\">\n",
        "  <thead>\n",
        "    <tr style=\"text-align: right;\">\n",
        "      <th></th>\n",
        "      <th>score</th>\n",
        "      <th>max_score</th>\n",
        "    </tr>\n",
        "  </thead>\n",
        "  <tbody>\n",
        "    <tr>\n",
        "      <th>Problem 1/Part A</th>\n",
        "      <td> 1</td>\n",
        "      <td> 1</td>\n",
        "    </tr>\n",
        "  </tbody>\n",
        "</table>\n",
        "<p>1 rows \u00d7 2 columns</p>\n",
        "</div>"
       ],
       "metadata": {},
       "output_type": "pyout",
       "prompt_number": 5,
       "text": [
        "                  score  max_score\n",
        "Problem 1/Part A      1          1\n",
        "\n",
        "[1 rows x 2 columns]"
       ]
      }
     ],
     "prompt_number": 5
    },
    {
     "cell_type": "heading",
     "level": 2,
     "metadata": {},
     "source": [
      "Part B"
     ]
    },
    {
     "cell_type": "code",
     "collapsed": false,
     "input": [
      "def goodbye(name):\n",
      "    # YOUR CODE HERE\n",
      "    return \"Goodbye, Jessica\""
     ],
     "language": "python",
     "metadata": {
      "assignment": {
       "cell_type": "grade"
      },
      "grade": true,
      "level": "Problem 1/Part B"
     },
     "outputs": []
    },
    {
     "cell_type": "code",
     "collapsed": false,
     "input": [
      "goodbye(\"Jessica\")"
     ],
     "language": "python",
     "metadata": {
      "level": "Problem 1/Part B"
     },
     "outputs": [
      {
       "metadata": {},
       "output_type": "pyout",
       "prompt_number": 8,
       "text": [
        "'Goodbye, Jessica'"
       ]
      }
     ],
     "prompt_number": 8
    },
    {
     "cell_type": "code",
     "collapsed": false,
     "input": [
      "%grade Problem 1/Part B"
     ],
     "language": "python",
     "metadata": {},
     "outputs": [
      {
       "output_type": "stream",
       "stream": "stderr",
       "text": [
        "Grade 'goodbye' with input 'Jessica' ... "
       ]
      },
      {
       "output_type": "stream",
       "stream": "stderr",
       "text": [
        "ok\n",
        "Grade 'goodbye' with input 'Python' ... "
       ]
      },
      {
       "output_type": "stream",
       "stream": "stderr",
       "text": [
        "FAIL\n",
        "\n",
        "======================================================================\n",
        "FAIL: Grade 'goodbye' with input 'Python'\n",
        "----------------------------------------------------------------------\n",
        "Traceback (most recent call last):\n",
        "  File \"/usr/local/lib/python2.7/site-packages/nose/case.py\", line 197, in runTest\n",
        "    self.test(*self.arg)\n",
        "  File \"/Users/jhamrick/project/tools/nbgrader/nbgrader/score.py\", line 28, in wrapped_f\n",
        "    f(*args)\n",
        "  File \"<ipython-input-9-8691efaf29db>\", line 29, in grade_goodbye2\n",
        "    assert_eq(msg, \"Goodbye, Python\")\n",
        "AssertionError: 'Goodbye, Jessica' != 'Goodbye, Python'\n",
        "\n",
        "----------------------------------------------------------------------\n",
        "Ran 2 tests in 0.002s\n",
        "\n",
        "FAILED (failures=1)\n"
       ]
      },
      {
       "html": [
        "<div style=\"max-height:1000px;max-width:1500px;overflow:auto;\">\n",
        "<table border=\"1\" class=\"dataframe\">\n",
        "  <thead>\n",
        "    <tr style=\"text-align: right;\">\n",
        "      <th></th>\n",
        "      <th>score</th>\n",
        "      <th>max_score</th>\n",
        "    </tr>\n",
        "  </thead>\n",
        "  <tbody>\n",
        "    <tr>\n",
        "      <th>Problem 1/Part B</th>\n",
        "      <td> 0.5</td>\n",
        "      <td> 1</td>\n",
        "    </tr>\n",
        "  </tbody>\n",
        "</table>\n",
        "<p>1 rows \u00d7 2 columns</p>\n",
        "</div>"
       ],
       "metadata": {},
       "output_type": "pyout",
       "prompt_number": 9,
       "text": [
        "                  score  max_score\n",
        "Problem 1/Part B    0.5          1\n",
        "\n",
        "[1 rows x 2 columns]"
       ]
      }
     ],
     "prompt_number": 9
    },
    {
     "cell_type": "heading",
     "level": 1,
     "metadata": {
      "grade": true
     },
     "source": [
      "Problem 2"
     ]
    },
    {
     "cell_type": "markdown",
     "metadata": {
      "level": "Problem 2"
     },
     "source": [
      "In one sentence, describe why IPython is awesome."
     ]
    },
    {
     "cell_type": "markdown",
     "metadata": {
      "assignment": {
       "cell_type": "grade"
      },
      "grade": true,
      "level": "Problem 2"
     },
     "source": [
      "IPython is awesome because it makes coding in Python easy."
     ]
    },
    {
     "cell_type": "heading",
     "level": 1,
     "metadata": {},
     "source": [
      "Autograder"
     ]
    },
    {
     "cell_type": "markdown",
     "metadata": {},
     "source": [
      "The following code was used to grade this assignment:"
     ]
    },
    {
     "cell_type": "markdown",
     "metadata": {},
     "source": [
      "```python\n",
      "from nose.tools import eq_ as assert_eq\n",
      "\n",
      "\n",
      "@score(problem=\"Problem 1/Part A\", points=0.5)\n",
      "def grade_hello1():\n",
      "    \"\"\"Grade 'hello' with input 'Jessica'\"\"\"\n",
      "    msg = hello(\"Jessica\")\n",
      "    assert_eq(msg, \"Hello, Jessica!\")\n",
      "\n",
      "\n",
      "@score(problem=\"Problem 1/Part A\", points=0.5)\n",
      "def grade_hello2():\n",
      "    \"\"\"Grade 'hello' with input 'Python'\"\"\"\n",
      "    msg = hello(\"Python\")\n",
      "    assert_eq(msg, \"Hello, Python!\")\n",
      "\n",
      "\n",
      "@score(problem=\"Problem 1/Part B\", points=0.5)\n",
      "def grade_goodbye1():\n",
      "    \"\"\"Grade 'goodbye' with input 'Jessica'\"\"\"\n",
      "    msg = goodbye(\"Jessica\")\n",
      "    assert_eq(msg, \"Goodbye, Jessica\")\n",
      "\n",
      "\n",
      "@score(problem=\"Problem 1/Part B\", points=0.5)\n",
      "def grade_goodbye2():\n",
      "    \"\"\"Grade 'goodbye' with input 'Python'\"\"\"\n",
      "    msg = goodbye(\"Python\")\n",
      "    assert_eq(msg, \"Goodbye, Python\")\n",
      "\n",
      "```"
     ]
    }
   ],
   "metadata": {}
  }
 ]
}