{
 "metadata": {
  "celltoolbar": "Create Assignment",
  "kernelspec": {
   "codemirror_mode": {
    "name": "python",
    "version": 2
   },
   "display_name": "Python 2",
   "language": "python",
   "name": "python2"
  },
  "name": "",
  "signature": "sha256:3afa7a047c6573d93941412109168f64f273e88f81e0a0aac0f54e9103426ec9"
 },
 "nbformat": 3,
 "nbformat_minor": 0,
 "worksheets": [
  {
   "cells": [
    {
     "cell_type": "code",
     "collapsed": false,
     "input": [
      "%load_ext nbgrader\n",
      "%run_solutions"
     ],
     "language": "python",
     "metadata": {
      "assignment": {
       "cell_type": "skip"
      }
     },
     "outputs": [],
     "prompt_number": 1
    },
    {
     "cell_type": "heading",
     "level": 1,
     "metadata": {},
     "source": [
      "Problem 1 ({{ points }} points)"
     ]
    },
    {
     "cell_type": "markdown",
     "metadata": {
      "assignment": {
       "cell_type": "-"
      }
     },
     "source": [
      "Some instructions here for students to do stuff."
     ]
    },
    {
     "cell_type": "heading",
     "level": 2,
     "metadata": {},
     "source": [
      "Part A"
     ]
    },
    {
     "cell_type": "code",
     "collapsed": false,
     "input": [
      "def hello(name):\n",
      "    {% if solution %}\n",
      "    return \"Hello, {}!\".format(name)\n",
      "    {% else %}\n",
      "    # YOUR CODE HERE\n",
      "    raise NotImplementedError\n",
      "    {% endif %}"
     ],
     "language": "python",
     "metadata": {
      "assignment": {
       "cell_type": "grade",
       "points": "1"
      }
     },
     "outputs": [],
     "prompt_number": 2
    },
    {
     "cell_type": "code",
     "collapsed": false,
     "input": [
      "hello(\"Jessica\")"
     ],
     "language": "python",
     "metadata": {
      "assignment": {
       "cell_type": "-"
      }
     },
     "outputs": [
      {
       "metadata": {},
       "output_type": "pyout",
       "prompt_number": 3,
       "text": [
        "'Hello, Jessica!'"
       ]
      }
     ],
     "prompt_number": 3
    },
    {
     "cell_type": "heading",
     "level": 2,
     "metadata": {},
     "source": [
      "Part B"
     ]
    },
    {
     "cell_type": "code",
     "collapsed": false,
     "input": [
      "def goodbye(name):\n",
      "    {% if solution %}\n",
      "    return \"Goodbye, {}!\".format(name)\n",
      "    {% else %}\n",
      "    # YOUR CODE HERE\n",
      "    raise NotImplementedError\n",
      "    {% endif %}"
     ],
     "language": "python",
     "metadata": {
      "assignment": {
       "cell_type": "grade",
       "points": "1"
      }
     },
     "outputs": [],
     "prompt_number": 6
    },
    {
     "cell_type": "code",
     "collapsed": false,
     "input": [
      "goodbye(\"Jessica\")"
     ],
     "language": "python",
     "metadata": {},
     "outputs": [
      {
       "metadata": {},
       "output_type": "pyout",
       "prompt_number": 5,
       "text": [
        "'Goodbye, Jessica!'"
       ]
      }
     ],
     "prompt_number": 5
    },
    {
     "cell_type": "heading",
     "level": 1,
     "metadata": {},
     "source": [
      "Problem 2 ({{ points }} points)"
     ]
    },
    {
     "cell_type": "markdown",
     "metadata": {},
     "source": [
      "In one sentence, describe why IPython is awesome."
     ]
    },
    {
     "cell_type": "markdown",
     "metadata": {
      "assignment": {
       "cell_type": "grade",
       "points": "2"
      }
     },
     "source": [
      "{% if solution %}\n",
      "One possible answer is that IPython is awesome because it can do everything!\n",
      "{% else %}\n",
      "**YOUR ANSWER HERE**\n",
      "{% endif %}"
     ]
    }
   ],
   "metadata": {}
  }
 ]
}