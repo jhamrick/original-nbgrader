{
 "metadata": {
  "celltoolbar": "Create Assignment",
  "kernelspec": {
   "codemirror_mode": {
    "name": "python",
    "version": 2
   },
   "display_name": "Python 2",
   "language": "python",
   "name": "python2"
  },
  "name": "",
  "signature": "sha256:fb3d68069d5cc4ef92de3d14e2ebce2c1655038c55dc67b0b80b2bc190203ee1"
 },
 "nbformat": 3,
 "nbformat_minor": 0,
 "worksheets": [
  {
   "cells": [
    {
     "cell_type": "code",
     "collapsed": false,
     "input": [
      "%load_ext nbgrader\n",
      "%run_solutions"
     ],
     "language": "python",
     "metadata": {
      "assignment": {
       "cell_type": "skip"
      }
     },
     "outputs": [],
     "prompt_number": 1
    },
    {
     "cell_type": "heading",
     "level": 1,
     "metadata": {},
     "source": [
      "Problem 1"
     ]
    },
    {
     "cell_type": "markdown",
     "metadata": {},
     "source": [
      "Some instructions here for students to do stuff."
     ]
    },
    {
     "cell_type": "heading",
     "level": 2,
     "metadata": {},
     "source": [
      "Part A"
     ]
    },
    {
     "cell_type": "code",
     "collapsed": false,
     "input": [
      "def hello(name):\n",
      "    # YOUR CODE HERE\n",
      "    {% if solution %}\n",
      "    return \"Hello, {}!\".format(name)\n",
      "    {% endif %}"
     ],
     "language": "python",
     "metadata": {
      "assignment": {
       "cell_type": "grade",
       "points": "1"
      }
     },
     "outputs": [],
     "prompt_number": 2
    },
    {
     "cell_type": "code",
     "collapsed": false,
     "input": [
      "hello(\"Jessica\")"
     ],
     "language": "python",
     "metadata": {},
     "outputs": [
      {
       "metadata": {},
       "output_type": "pyout",
       "prompt_number": 3,
       "text": [
        "'Hello, Jessica!'"
       ]
      }
     ],
     "prompt_number": 3
    },
    {
     "cell_type": "heading",
     "level": 2,
     "metadata": {},
     "source": [
      "Part B"
     ]
    },
    {
     "cell_type": "code",
     "collapsed": false,
     "input": [
      "def goodbye(name):\n",
      "    # YOUR CODE HERE\n",
      "    {% if solution %}\n",
      "    return \"Goodbye, {}!\".format(name)\n",
      "    {% endif %}"
     ],
     "language": "python",
     "metadata": {
      "assignment": {
       "cell_type": "grade",
       "points": "1"
      }
     },
     "outputs": [],
     "prompt_number": 4
    },
    {
     "cell_type": "code",
     "collapsed": false,
     "input": [
      "goodbye(\"Jessica\")"
     ],
     "language": "python",
     "metadata": {},
     "outputs": [
      {
       "metadata": {},
       "output_type": "pyout",
       "prompt_number": 5,
       "text": [
        "'Goodbye, Jessica!'"
       ]
      }
     ],
     "prompt_number": 5
    },
    {
     "cell_type": "heading",
     "level": 1,
     "metadata": {},
     "source": [
      "Problem 2"
     ]
    },
    {
     "cell_type": "markdown",
     "metadata": {},
     "source": [
      "In one sentence, describe why IPython is awesome."
     ]
    },
    {
     "cell_type": "markdown",
     "metadata": {
      "assignment": {
       "cell_type": "grade",
       "points": "2"
      }
     },
     "source": [
      "{% if solution %}\n",
      "One possible answer is that IPython is awesome because it can do everything!\n",
      "{% else %}\n",
      "**YOUR ANSWER HERE**\n",
      "{% endif %}"
     ]
    }
   ],
   "metadata": {}
  }
 ]
}