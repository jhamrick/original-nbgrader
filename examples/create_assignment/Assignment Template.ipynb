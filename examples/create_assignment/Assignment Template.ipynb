{
 "metadata": {
  "celltoolbar": "Create Assignment",
  "kernelspec": {
   "codemirror_mode": {
    "name": "python",
    "version": 2
   },
   "display_name": "Python 2",
   "language": "python",
   "name": "python2"
  },
  "name": "",
  "signature": "sha256:bc48fd9bca30cd84e7a08bf1cb5ab96e164a545683b05e1604dde6243680fc64"
 },
 "nbformat": 3,
 "nbformat_minor": 0,
 "worksheets": [
  {
   "cells": [
    {
     "cell_type": "code",
     "collapsed": false,
     "input": [
      "%load_ext nbgrader\n",
      "%run_solutions"
     ],
     "language": "python",
     "metadata": {
      "assignment": {
       "cell_type": "skip"
      },
      "exclude": true
     },
     "outputs": [],
     "prompt_number": 1
    },
    {
     "cell_type": "heading",
     "level": 1,
     "metadata": {
      "grade": true
     },
     "source": [
      "Problem 1"
     ]
    },
    {
     "cell_type": "markdown",
     "metadata": {},
     "source": [
      "Some instructions here for students to do stuff."
     ]
    },
    {
     "cell_type": "heading",
     "level": 2,
     "metadata": {},
     "source": [
      "Part A"
     ]
    },
    {
     "cell_type": "code",
     "collapsed": false,
     "input": [
      "def hello(name):\n",
      "    # YOUR CODE HERE\n",
      "    {% if solution %}\n",
      "    return \"Hello, {}!\".format(name)\n",
      "    {% endif %}"
     ],
     "language": "python",
     "metadata": {
      "assignment": {
       "cell_type": "grade"
      },
      "grade": true
     },
     "outputs": [],
     "prompt_number": 2
    },
    {
     "cell_type": "code",
     "collapsed": false,
     "input": [
      "hello(\"Jessica\")"
     ],
     "language": "python",
     "metadata": {},
     "outputs": [
      {
       "metadata": {},
       "output_type": "pyout",
       "prompt_number": 3,
       "text": [
        "'Hello, Jessica!'"
       ]
      }
     ],
     "prompt_number": 3
    },
    {
     "cell_type": "heading",
     "level": 2,
     "metadata": {},
     "source": [
      "Part B"
     ]
    },
    {
     "cell_type": "code",
     "collapsed": false,
     "input": [
      "def goodbye(name):\n",
      "    # YOUR CODE HERE\n",
      "    {% if solution %}\n",
      "    return \"Goodbye, {}!\".format(name)\n",
      "    {% endif %}"
     ],
     "language": "python",
     "metadata": {
      "assignment": {
       "cell_type": "grade"
      },
      "grade": true
     },
     "outputs": [],
     "prompt_number": 4
    },
    {
     "cell_type": "code",
     "collapsed": false,
     "input": [
      "goodbye(\"Jessica\")"
     ],
     "language": "python",
     "metadata": {},
     "outputs": [
      {
       "metadata": {},
       "output_type": "pyout",
       "prompt_number": 5,
       "text": [
        "'Goodbye, Jessica!'"
       ]
      }
     ],
     "prompt_number": 5
    },
    {
     "cell_type": "heading",
     "level": 1,
     "metadata": {
      "grade": true
     },
     "source": [
      "Problem 2"
     ]
    },
    {
     "cell_type": "markdown",
     "metadata": {},
     "source": [
      "In one sentence, describe why IPython is awesome."
     ]
    },
    {
     "cell_type": "markdown",
     "metadata": {
      "assignment": {
       "cell_type": "grade"
      },
      "grade": true,
      "written_answer": true
     },
     "source": [
      "{% if solution %}\n",
      "One possible answer is that IPython is awesome because it can do everything!\n",
      "{% else %}\n",
      "**YOUR ANSWER HERE**\n",
      "{% endif %}"
     ]
    }
   ],
   "metadata": {}
  }
 ]
}