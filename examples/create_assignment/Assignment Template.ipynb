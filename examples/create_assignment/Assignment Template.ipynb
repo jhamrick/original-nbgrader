{
 "metadata": {
  "celltoolbar": "Create Assignment",
  "kernelspec": {
   "codemirror_mode": {
    "name": "python",
    "version": 2
   },
   "display_name": "Python 2",
   "language": "python",
   "name": "python2"
  },
  "name": "",
  "signature": "sha256:059939ba274f0ddd351b3b81b7ff928a4e0a0011a0a3acd56ff521e8edb5d87d"
 },
 "nbformat": 3,
 "nbformat_minor": 0,
 "worksheets": [
  {
   "cells": [
    {
     "cell_type": "code",
     "collapsed": false,
     "input": [
      "%load_ext nbgrader\n",
      "%run_solutions"
     ],
     "language": "python",
     "metadata": {
      "assignment": {
       "cell_type": "skip"
      }
     },
     "outputs": [],
     "prompt_number": 1
    },
    {
     "cell_type": "heading",
     "level": 2,
     "metadata": {},
     "source": [
      "Problem 1"
     ]
    },
    {
     "cell_type": "markdown",
     "metadata": {
      "assignment": {
       "cell_type": "-"
      }
     },
     "source": [
      "Write a function that returns a list of numbers, such that $x_i=i^2$, for $1\\leq i \\leq n$."
     ]
    },
    {
     "cell_type": "code",
     "collapsed": false,
     "input": [
      "def squares(n):\n",
      "    \"\"\"Compute the squares of numbers from 1 to n, such that the \n",
      "    ith element of the returned list equals i^2.\n",
      "    \n",
      "    \"\"\"\n",
      "    {% if solution %}\n",
      "    return [i ** 2 for i in xrange(1, n + 1)]\n",
      "    {% else %}\n",
      "    # YOUR CODE HERE\n",
      "    raise NotImplementedError\n",
      "    {% endif %}"
     ],
     "language": "python",
     "metadata": {
      "assignment": {
       "cell_type": "grade",
       "id": "squares",
       "points": "2"
      }
     },
     "outputs": [],
     "prompt_number": 2
    },
    {
     "cell_type": "markdown",
     "metadata": {},
     "source": [
      "Your function should print `[1, 4, 9, 16, 25, 36, 49, 64, 81, 100]` for $n=10$. Check that it does:"
     ]
    },
    {
     "cell_type": "code",
     "collapsed": false,
     "input": [
      "squares(10)"
     ],
     "language": "python",
     "metadata": {
      "assignment": {
       "cell_type": "-"
      }
     },
     "outputs": [
      {
       "metadata": {},
       "output_type": "pyout",
       "prompt_number": 3,
       "text": [
        "[1, 4, 9, 16, 25, 36, 49, 64, 81, 100]"
       ]
      }
     ],
     "prompt_number": 3
    },
    {
     "cell_type": "markdown",
     "metadata": {},
     "source": [
      "---"
     ]
    },
    {
     "cell_type": "heading",
     "level": 2,
     "metadata": {},
     "source": [
      "Problem 2"
     ]
    },
    {
     "cell_type": "heading",
     "level": 3,
     "metadata": {},
     "source": [
      "Part A"
     ]
    },
    {
     "cell_type": "markdown",
     "metadata": {},
     "source": [
      "Using your `squares` function, write a function that computes the sum of the squares of the numbers from 1 to $n$. Your function should call the `squares` function -- it should NOT reimplement its functionality."
     ]
    },
    {
     "cell_type": "code",
     "collapsed": false,
     "input": [
      "def sum_of_squares(n):\n",
      "    \"\"\"Compute the sum of the squares of numbers from 1 to n.\"\"\"\n",
      "    {% if solution %}\n",
      "    return sum(squares(n))\n",
      "    {% else %}\n",
      "    # YOUR CODE HERE\n",
      "    raise NotImplementedError\n",
      "    {% endif %}"
     ],
     "language": "python",
     "metadata": {
      "assignment": {
       "cell_type": "grade",
       "id": "sum_of_squares",
       "points": "1"
      }
     },
     "outputs": [],
     "prompt_number": 5
    },
    {
     "cell_type": "markdown",
     "metadata": {},
     "source": [
      "The sum of squares from 1 to 10 should be 385. Verify that this is the answer you get:"
     ]
    },
    {
     "cell_type": "code",
     "collapsed": false,
     "input": [
      "sum_of_squares(10)"
     ],
     "language": "python",
     "metadata": {},
     "outputs": [
      {
       "metadata": {},
       "output_type": "pyout",
       "prompt_number": 6,
       "text": [
        "385"
       ]
      }
     ],
     "prompt_number": 6
    },
    {
     "cell_type": "heading",
     "level": 3,
     "metadata": {},
     "source": [
      "Part B"
     ]
    },
    {
     "cell_type": "markdown",
     "metadata": {},
     "source": [
      "Using LaTeX math notation, write out the equation that is implemented by your `sum_of_squares` function."
     ]
    },
    {
     "cell_type": "markdown",
     "metadata": {
      "assignment": {
       "cell_type": "grade",
       "id": "sum_of_squares_equation",
       "points": "1"
      }
     },
     "source": [
      "{% if solution %}\n",
      "$\\sum_{i=1}^n i^2$\n",
      "{% else %}\n",
      "YOUR ANSWER HERE\n",
      "{% endif %}"
     ]
    }
   ],
   "metadata": {}
  }
 ]
}