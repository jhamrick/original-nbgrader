{
 "metadata": {
  "disable_assignment_toolbar": true,
  "kernelspec": {
   "codemirror_mode": {
    "name": "python",
    "version": 2
   },
   "display_name": "Python 2",
   "language": "python",
   "name": "python2"
  },
  "name": "",
  "signature": "sha256:a6de79199cd73dfd92cb435ce621ae34a0a3e371035a7ed2cb54789009a0c689"
 },
 "nbformat": 3,
 "nbformat_minor": 0,
 "worksheets": [
  {
   "cells": [
    {
     "cell_type": "markdown",
     "metadata": {
      "tree": [
       ""
      ]
     },
     "source": [
      "# Example Assignment"
     ]
    },
    {
     "cell_type": "markdown",
     "metadata": {
      "assignment": {
       "cell_type": "-"
      },
      "tree": [
       ""
      ]
     },
     "source": [
      "* <a href=\"#Problem-1\">Problem 1</a>\n",
      "\t* <a href=\"#Part-A\">Part A</a>\n",
      "\t* <a href=\"#Part-B\">Part B</a>\n",
      "* <a href=\"#Problem-2\">Problem 2</a>"
     ]
    },
    {
     "cell_type": "markdown",
     "metadata": {
      "assignment": {
       "cell_type": "release"
      },
      "tree": [
       ""
      ]
     },
     "source": [
      "---"
     ]
    },
    {
     "cell_type": "markdown",
     "metadata": {
      "assignment": {
       "cell_type": "release"
      },
      "tree": [
       ""
      ]
     },
     "source": [
      "Before you turn this problem in, make sure everything runs as expected. First, **restart the kernel** (in the menubar, select Kernel$\\rightarrow$Restart) and then **run all cells** (in the menubar, select Cell$\\rightarrow$Run All).\n",
      "\n",
      "Make sure you fill in any place that says `YOUR CODE HERE` or **YOUR ANSWER HERE**, as well as your name and collaborators below:"
     ]
    },
    {
     "cell_type": "code",
     "collapsed": false,
     "input": [
      "NAME = \"\"\n",
      "COLLABORATORS = \"\""
     ],
     "language": "python",
     "metadata": {
      "assignment": {
       "cell_type": "release"
      },
      "tree": [
       ""
      ]
     },
     "outputs": []
    },
    {
     "cell_type": "markdown",
     "metadata": {
      "tree": [
       ""
      ]
     },
     "source": [
      "---"
     ]
    },
    {
     "cell_type": "heading",
     "level": 1,
     "metadata": {
      "tree": [
       "Problem 1"
      ]
     },
     "source": [
      "Problem 1"
     ]
    },
    {
     "cell_type": "markdown",
     "metadata": {
      "assignment": {
       "cell_type": "-"
      },
      "tree": [
       "Problem 1"
      ]
     },
     "source": [
      "Some instructions here for students to do stuff."
     ]
    },
    {
     "cell_type": "heading",
     "level": 2,
     "metadata": {
      "tree": [
       "Problem 1",
       "Part A"
      ]
     },
     "source": [
      "Part A"
     ]
    },
    {
     "cell_type": "code",
     "collapsed": false,
     "input": [
      "def hello(name):\n",
      "    # YOUR CODE HERE\n",
      "    raise NotImplementedError\n"
     ],
     "language": "python",
     "metadata": {
      "assignment": {
       "cell_type": "grade",
       "id": "hello",
       "points": "1"
      },
      "tree": [
       "Problem 1",
       "Part A"
      ]
     },
     "outputs": []
    },
    {
     "cell_type": "code",
     "collapsed": false,
     "input": [
      "hello(\"Jessica\")"
     ],
     "language": "python",
     "metadata": {
      "assignment": {
       "cell_type": "-"
      },
      "tree": [
       "Problem 1",
       "Part A"
      ]
     },
     "outputs": []
    },
    {
     "cell_type": "heading",
     "level": 2,
     "metadata": {
      "tree": [
       "Problem 1",
       "Part B"
      ]
     },
     "source": [
      "Part B"
     ]
    },
    {
     "cell_type": "code",
     "collapsed": false,
     "input": [
      "def goodbye(name):\n",
      "    # YOUR CODE HERE\n",
      "    raise NotImplementedError\n"
     ],
     "language": "python",
     "metadata": {
      "assignment": {
       "cell_type": "grade",
       "id": "goodbye",
       "points": "1"
      },
      "tree": [
       "Problem 1",
       "Part B"
      ]
     },
     "outputs": []
    },
    {
     "cell_type": "code",
     "collapsed": false,
     "input": [
      "goodbye(\"Jessica\")"
     ],
     "language": "python",
     "metadata": {
      "tree": [
       "Problem 1",
       "Part B"
      ]
     },
     "outputs": []
    },
    {
     "cell_type": "markdown",
     "metadata": {
      "tree": [
       "Problem 1",
       "Part B"
      ]
     },
     "source": [
      "---"
     ]
    },
    {
     "cell_type": "heading",
     "level": 1,
     "metadata": {
      "tree": [
       "Problem 2"
      ]
     },
     "source": [
      "Problem 2"
     ]
    },
    {
     "cell_type": "markdown",
     "metadata": {
      "tree": [
       "Problem 2"
      ]
     },
     "source": [
      "In one sentence, describe why IPython is awesome."
     ]
    },
    {
     "cell_type": "markdown",
     "metadata": {
      "assignment": {
       "cell_type": "grade",
       "id": "problem2",
       "points": "2"
      },
      "tree": [
       "Problem 2"
      ]
     },
     "source": [
      "**YOUR ANSWER HERE**\n"
     ]
    }
   ],
   "metadata": {}
  }
 ]
}