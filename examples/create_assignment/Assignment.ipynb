{
 "metadata": {
  "disable_assignment_toolbar": true,
  "kernelspec": {
   "codemirror_mode": {
    "name": "python",
    "version": 2
   },
   "display_name": "Python 2",
   "language": "python",
   "name": "python2"
  },
  "name": "",
  "signature": "sha256:2a8115fb55ff4f89d172e23b38d16f78bb0c5b24f0645e0f59e833ca498e09bb"
 },
 "nbformat": 3,
 "nbformat_minor": 0,
 "worksheets": [
  {
   "cells": [
    {
     "cell_type": "markdown",
     "metadata": {
      "tree": [
       "",
       ""
      ]
     },
     "source": [
      "# Example Assignment"
     ]
    },
    {
     "cell_type": "markdown",
     "metadata": {
      "assignment": {
       "cell_type": "-"
      },
      "tree": [
       "",
       ""
      ]
     },
     "source": [
      "* <a href=\"#Problem-1\">Problem 1</a>\n",
      "* <a href=\"#Problem-2\">Problem 2</a>\n",
      "\t* <a href=\"#Part-A\">Part A</a>\n",
      "\t* <a href=\"#Part-B\">Part B</a>\n",
      "\t* <a href=\"#Part-C\">Part C</a>"
     ]
    },
    {
     "cell_type": "markdown",
     "metadata": {
      "assignment": {
       "cell_type": "release"
      },
      "tree": [
       "",
       ""
      ]
     },
     "source": [
      "---"
     ]
    },
    {
     "cell_type": "markdown",
     "metadata": {
      "assignment": {
       "cell_type": "release"
      },
      "tree": [
       "",
       ""
      ]
     },
     "source": [
      "Before you turn this problem in, make sure everything runs as expected. First, **restart the kernel** (in the menubar, select Kernel$\\rightarrow$Restart) and then **run all cells** (in the menubar, select Cell$\\rightarrow$Run All).\n",
      "\n",
      "Make sure you fill in any place that says `YOUR CODE HERE` or \"YOUR ANSWER HERE\", as well as your name and collaborators below:"
     ]
    },
    {
     "cell_type": "code",
     "collapsed": false,
     "input": [
      "NAME = \"\"\n",
      "COLLABORATORS = \"\""
     ],
     "language": "python",
     "metadata": {
      "assignment": {
       "cell_type": "release"
      },
      "tree": [
       "",
       ""
      ]
     },
     "outputs": []
    },
    {
     "cell_type": "markdown",
     "metadata": {
      "tree": [
       "",
       ""
      ]
     },
     "source": [
      "---"
     ]
    },
    {
     "cell_type": "code",
     "collapsed": false,
     "input": [
      "# import plotting libraries\n",
      "%matplotlib inline\n",
      "import matplotlib.pyplot as plt"
     ],
     "language": "python",
     "metadata": {
      "tree": [
       "",
       ""
      ]
     },
     "outputs": []
    },
    {
     "cell_type": "heading",
     "level": 2,
     "metadata": {
      "tree": [
       "",
       "Problem 1"
      ]
     },
     "source": [
      "Problem 1"
     ]
    },
    {
     "cell_type": "markdown",
     "metadata": {
      "assignment": {
       "cell_type": "-"
      },
      "tree": [
       "",
       "Problem 1"
      ]
     },
     "source": [
      "Write a function that returns a list of numbers, such that $x_i=i^2$, for $1\\leq i \\leq n$."
     ]
    },
    {
     "cell_type": "code",
     "collapsed": false,
     "input": [
      "def squares(n):\n",
      "    \"\"\"Compute the squares of numbers from 1 to n, such that the \n",
      "    ith element of the returned list equals i^2.\n",
      "    \n",
      "    \"\"\"\n",
      "    # YOUR CODE HERE\n",
      "    raise NotImplementedError\n"
     ],
     "language": "python",
     "metadata": {
      "assignment": {
       "cell_type": "grade",
       "id": "squares",
       "points": "2"
      },
      "tree": [
       "",
       "Problem 1"
      ]
     },
     "outputs": []
    },
    {
     "cell_type": "markdown",
     "metadata": {
      "tree": [
       "",
       "Problem 1"
      ]
     },
     "source": [
      "Your function should print `[1, 4, 9, 16, 25, 36, 49, 64, 81, 100]` for $n=10$. Check that it does:"
     ]
    },
    {
     "cell_type": "code",
     "collapsed": false,
     "input": [
      "squares(10)"
     ],
     "language": "python",
     "metadata": {
      "assignment": {
       "cell_type": "-"
      },
      "tree": [
       "",
       "Problem 1"
      ]
     },
     "outputs": []
    },
    {
     "cell_type": "markdown",
     "metadata": {
      "tree": [
       "",
       "Problem 1"
      ]
     },
     "source": [
      "---"
     ]
    },
    {
     "cell_type": "heading",
     "level": 2,
     "metadata": {
      "tree": [
       "",
       "Problem 2"
      ]
     },
     "source": [
      "Problem 2"
     ]
    },
    {
     "cell_type": "heading",
     "level": 3,
     "metadata": {
      "tree": [
       "",
       "Problem 2",
       "Part A"
      ]
     },
     "source": [
      "Part A"
     ]
    },
    {
     "cell_type": "markdown",
     "metadata": {
      "tree": [
       "",
       "Problem 2",
       "Part A"
      ]
     },
     "source": [
      "Using your `squares` function, write a function that computes the sum of the squares of the numbers from 1 to $n$. Your function should call the `squares` function -- it should NOT reimplement its functionality."
     ]
    },
    {
     "cell_type": "code",
     "collapsed": false,
     "input": [
      "def sum_of_squares(n):\n",
      "    \"\"\"Compute the sum of the squares of numbers from 1 to n.\"\"\"\n",
      "    # YOUR CODE HERE\n",
      "    raise NotImplementedError\n"
     ],
     "language": "python",
     "metadata": {
      "assignment": {
       "cell_type": "grade",
       "id": "sum_of_squares",
       "points": "1"
      },
      "tree": [
       "",
       "Problem 2",
       "Part A"
      ]
     },
     "outputs": []
    },
    {
     "cell_type": "markdown",
     "metadata": {
      "tree": [
       "",
       "Problem 2",
       "Part A"
      ]
     },
     "source": [
      "The sum of squares from 1 to 10 should be 385. Verify that this is the answer you get:"
     ]
    },
    {
     "cell_type": "code",
     "collapsed": false,
     "input": [
      "sum_of_squares(10)"
     ],
     "language": "python",
     "metadata": {
      "tree": [
       "",
       "Problem 2",
       "Part A"
      ]
     },
     "outputs": []
    },
    {
     "cell_type": "heading",
     "level": 3,
     "metadata": {
      "tree": [
       "",
       "Problem 2",
       "Part B"
      ]
     },
     "source": [
      "Part B"
     ]
    },
    {
     "cell_type": "markdown",
     "metadata": {
      "tree": [
       "",
       "Problem 2",
       "Part B"
      ]
     },
     "source": [
      "Using LaTeX math notation, write out the equation that is implemented by your `sum_of_squares` function."
     ]
    },
    {
     "cell_type": "markdown",
     "metadata": {
      "assignment": {
       "cell_type": "grade",
       "id": "sum_of_squares_equation",
       "points": "1"
      },
      "tree": [
       "",
       "Problem 2",
       "Part B"
      ]
     },
     "source": [
      "YOUR ANSWER HERE\n"
     ]
    },
    {
     "cell_type": "heading",
     "level": 3,
     "metadata": {
      "tree": [
       "",
       "Problem 2",
       "Part C"
      ]
     },
     "source": [
      "Part C"
     ]
    },
    {
     "cell_type": "markdown",
     "metadata": {
      "tree": [
       "",
       "Problem 2",
       "Part C"
      ]
     },
     "source": [
      "Create a plot of the sum of squares for $n=1$ to $n=15$. Make sure to appropriately label the $x$-axis and $y$-axis, and to give the plot a title. Set the $x$-axis limits to be 1 (minimum) and 15 (maximum)."
     ]
    },
    {
     "cell_type": "code",
     "collapsed": false,
     "input": [
      "# YOUR CODE HERE\n",
      "raise NotImplementedError\n"
     ],
     "language": "python",
     "metadata": {
      "assignment": {
       "cell_type": "grade",
       "id": "sum_of_squares_plot",
       "points": "1"
      },
      "tree": [
       "",
       "Problem 2",
       "Part C"
      ]
     },
     "outputs": []
    }
   ],
   "metadata": {}
  }
 ]
}