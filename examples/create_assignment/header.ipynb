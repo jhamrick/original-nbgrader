{
 "metadata": {
  "kernelspec": {
   "codemirror_mode": {
    "name": "ipython",
    "version": 2
   },
   "display_name": "IPython (Python 2)",
   "language": "python",
   "name": "python2"
  },
  "name": "",
  "signature": "sha256:35acae4c7f3402dfd27b9ea0baa30ea9258af799f0f7d805a2f84b192b7f8e5a"
 },
 "nbformat": 3,
 "nbformat_minor": 0,
 "worksheets": [
  {
   "cells": [
    {
     "cell_type": "markdown",
     "metadata": {},
     "source": [
      "Before you turn this problem in, make sure everything runs as expected. First, **restart the kernel** (in the menubar, select Kernel$\\rightarrow$Restart) and then **run all cells** (in the menubar, select Cell$\\rightarrow$Run All).\n",
      "\n",
      "Make sure you fill in any place that says `YOUR CODE HERE` or **YOUR ANSWER HERE**, as well as your name and collaborators below:"
     ]
    },
    {
     "cell_type": "code",
     "collapsed": false,
     "input": [
      "NAME = \"\"\n",
      "COLLABORATORS = \"\""
     ],
     "language": "python",
     "metadata": {},
     "outputs": []
    }
   ],
   "metadata": {}
  }
 ]
}