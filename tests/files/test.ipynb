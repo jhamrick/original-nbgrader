{
 "metadata": {
  "celltoolbar": "Create Assignment",
  "kernelspec": {
   "codemirror_mode": {
    "name": "ipython",
    "version": 2
   },
   "display_name": "IPython (Python 2)",
   "language": "python",
   "name": "python2"
  },
  "name": "",
  "signature": "sha256:3c8a230e19e9bad8cf9e4c4232b221b8b6dfecebeff1ebeebfecb94661d5b256"
 },
 "nbformat": 3,
 "nbformat_minor": 0,
 "worksheets": [
  {
   "cells": [
    {
     "cell_type": "markdown",
     "metadata": {
      "assignment": {
       "cell_type": "release"
      }
     },
     "source": [
      "Release only"
     ]
    },
    {
     "cell_type": "markdown",
     "metadata": {
      "assignment": {
       "cell_type": "solution"
      }
     },
     "source": [
      "Solution only"
     ]
    },
    {
     "cell_type": "markdown",
     "metadata": {
      "assignment": {
       "cell_type": "skip"
      }
     },
     "source": [
      "Skip"
     ]
    },
    {
     "cell_type": "heading",
     "level": 1,
     "metadata": {},
     "source": [
      "foo bar"
     ]
    },
    {
     "cell_type": "heading",
     "level": 2,
     "metadata": {},
     "source": [
      "bar"
     ]
    },
    {
     "cell_type": "heading",
     "level": 3,
     "metadata": {},
     "source": [
      "baz"
     ]
    },
    {
     "cell_type": "code",
     "collapsed": false,
     "input": [
      "# some code problem"
     ],
     "language": "python",
     "metadata": {
      "assignment": {
       "cell_type": "grade",
       "id": "problem1",
       "points": "3"
      }
     },
     "outputs": []
    },
    {
     "cell_type": "markdown",
     "metadata": {},
     "source": [
      "blah"
     ]
    },
    {
     "cell_type": "code",
     "collapsed": false,
     "input": [
      "# blah blah blah"
     ],
     "language": "python",
     "metadata": {
      "assignment": {
       "cell_type": "autograder",
       "id": "test1_for_problem1"
      }
     },
     "outputs": []
    },
    {
     "cell_type": "code",
     "collapsed": false,
     "input": [
      "# blah blah blah blah"
     ],
     "language": "python",
     "metadata": {
      "assignment": {
       "cell_type": "autograder",
       "id": "test2_for_problem1"
      }
     },
     "outputs": []
    },
    {
     "cell_type": "heading",
     "level": 3,
     "metadata": {},
     "source": [
      "quux"
     ]
    },
    {
     "cell_type": "markdown",
     "metadata": {
      "assignment": {
       "cell_type": "grade",
       "id": "problem2",
       "points": "2"
      }
     },
     "source": [
      "some written problem"
     ]
    },
    {
     "cell_type": "heading",
     "level": 2,
     "metadata": {},
     "source": [
      "foo2"
     ]
    }
   ],
   "metadata": {}
  }
 ]
}