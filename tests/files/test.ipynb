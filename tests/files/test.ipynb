{
 "metadata": {
  "celltoolbar": "Create Assignment",
  "kernelspec": {
   "codemirror_mode": {
    "name": "ipython",
    "version": 2
   },
   "display_name": "IPython (Python 2)",
   "language": "python",
   "name": "python2"
  },
  "name": "",
  "signature": "sha256:6b33eed6352ffa2a6e28cba17bfcff5ce6e8dbbef8bc0edb61051f206fa01d4d"
 },
 "nbformat": 3,
 "nbformat_minor": 0,
 "worksheets": [
  {
   "cells": [
    {
     "cell_type": "markdown",
     "metadata": {
      "assignment": {
       "cell_type": "release"
      }
     },
     "source": [
      "Release only"
     ]
    },
    {
     "cell_type": "markdown",
     "metadata": {
      "assignment": {
       "cell_type": "solution"
      }
     },
     "source": [
      "Solution only"
     ]
    },
    {
     "cell_type": "markdown",
     "metadata": {
      "assignment": {
       "cell_type": "skip"
      }
     },
     "source": [
      "Skip"
     ]
    },
    {
     "cell_type": "heading",
     "level": 1,
     "metadata": {
      "assignment": {}
     },
     "source": [
      "foo bar"
     ]
    },
    {
     "cell_type": "heading",
     "level": 2,
     "metadata": {
      "assignment": {}
     },
     "source": [
      "bar"
     ]
    },
    {
     "cell_type": "heading",
     "level": 3,
     "metadata": {
      "assignment": {}
     },
     "source": [
      "baz"
     ]
    },
    {
     "cell_type": "code",
     "collapsed": false,
     "input": [
      "# some code problem"
     ],
     "language": "python",
     "metadata": {
      "assignment": {
       "cell_type": "grade",
       "id": "problem1",
       "points": "3"
      }
     },
     "outputs": []
    },
    {
     "cell_type": "markdown",
     "metadata": {
      "assignment": {}
     },
     "source": [
      "blah"
     ]
    },
    {
     "cell_type": "code",
     "collapsed": false,
     "input": [
      "# blah blah blah"
     ],
     "language": "python",
     "metadata": {
      "assignment": {
       "cell_type": "autograder",
       "id": "test1_for_problem1",
       "weight": ""
      }
     },
     "outputs": []
    },
    {
     "cell_type": "markdown",
     "metadata": {
      "assignment": {
       "cell_type": "autograder",
       "id": "test2_for_problem1",
       "weight": "2"
      }
     },
     "source": [
      "# blah blah blah blah"
     ]
    },
    {
     "cell_type": "heading",
     "level": 3,
     "metadata": {
      "assignment": {}
     },
     "source": [
      "quux"
     ]
    },
    {
     "cell_type": "markdown",
     "metadata": {
      "assignment": {
       "cell_type": "grade",
       "id": "problem2",
       "points": ""
      }
     },
     "source": [
      "some written problem"
     ]
    },
    {
     "cell_type": "heading",
     "level": 2,
     "metadata": {
      "assignment": {}
     },
     "source": [
      "foo2"
     ]
    }
   ],
   "metadata": {}
  }
 ]
}