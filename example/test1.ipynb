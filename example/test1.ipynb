{
 "metadata": {
  "celltoolbar": "Edit Metadata",
  "name": "",
  "signature": "sha256:452555a608bc6ffa371dee5728db05d33d3247a531da784e98c10178a23bd257"
 },
 "nbformat": 3,
 "nbformat_minor": 0,
 "worksheets": [
  {
   "cells": [
    {
     "cell_type": "heading",
     "level": 1,
     "metadata": {
      "grade": true
     },
     "source": [
      "Problem 1"
     ]
    },
    {
     "cell_type": "markdown",
     "metadata": {},
     "source": [
      "Some instructions here for students to do stuff."
     ]
    },
    {
     "cell_type": "code",
     "collapsed": false,
     "input": [
      "def hello(name):\n",
      "    # YOUR ANSWER HERE\n",
      "    return \"Hello, {}!\".format(name)"
     ],
     "language": "python",
     "metadata": {
      "grade": true
     },
     "outputs": [],
     "prompt_number": 1
    },
    {
     "cell_type": "code",
     "collapsed": false,
     "input": [
      "def goodbye(name):\n",
      "    # YOUR ANSWER HERE\n",
      "    return \"Goodbye, Jessica\""
     ],
     "language": "python",
     "metadata": {
      "grade": true
     },
     "outputs": [],
     "prompt_number": 2
    },
    {
     "cell_type": "code",
     "collapsed": false,
     "input": [
      "hello(\"Jessica\")"
     ],
     "language": "python",
     "metadata": {},
     "outputs": [
      {
       "metadata": {},
       "output_type": "pyout",
       "prompt_number": 3,
       "text": [
        "'Hello, Jessica!'"
       ]
      }
     ],
     "prompt_number": 3
    },
    {
     "cell_type": "code",
     "collapsed": false,
     "input": [
      "goodbye(\"Jessica\")"
     ],
     "language": "python",
     "metadata": {},
     "outputs": [
      {
       "metadata": {},
       "output_type": "pyout",
       "prompt_number": 4,
       "text": [
        "'Goodbye, Jessica'"
       ]
      }
     ],
     "prompt_number": 4
    },
    {
     "cell_type": "heading",
     "level": 1,
     "metadata": {
      "grade": true
     },
     "source": [
      "Problem 2"
     ]
    },
    {
     "cell_type": "markdown",
     "metadata": {},
     "source": [
      "In one sentence, describe why IPython is awesome."
     ]
    },
    {
     "cell_type": "markdown",
     "metadata": {
      "grade": true
     },
     "source": [
      "**YOUR ANSWER HERE**"
     ]
    }
   ],
   "metadata": {}
  }
 ]
}