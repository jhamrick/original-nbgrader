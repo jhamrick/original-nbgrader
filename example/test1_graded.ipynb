{
 "metadata": {
  "name": "test1"
 },
 "nbformat": 3,
 "nbformat_minor": 0,
 "worksheets": [
  {
   "cells": [
    {
     "cell_type": "heading",
     "level": 1,
     "metadata": {
      "grade": true
     },
     "source": [
      "Problem 1"
     ]
    },
    {
     "cell_type": "code",
     "collapsed": false,
     "input": [
      "def hello(name):\n",
      "    # YOUR ANSWER HERE\n",
      "    return \"Hello, {}!\".format(name)"
     ],
     "language": "python",
     "metadata": {
      "grade": true
     },
     "outputs": [],
     "prompt_number": 1
    },
    {
     "cell_type": "code",
     "collapsed": false,
     "input": [
      "def goodbye(name):\n",
      "    # YOUR ANSWER HERE\n",
      "    return \"Goodbye, Jessica\""
     ],
     "language": "python",
     "metadata": {
      "grade": true
     },
     "outputs": [],
     "prompt_number": 2
    },
    {
     "cell_type": "heading",
     "level": 1,
     "metadata": {
      "grade": true
     },
     "source": [
      "Problem 2"
     ]
    },
    {
     "cell_type": "markdown",
     "metadata": {
      "grade": true
     },
     "source": [
      "**YOUR ANSWER HERE**"
     ]
    },
    {
     "cell_type": "heading",
     "level": 1,
     "metadata": {},
     "source": [
      "Autograder"
     ]
    },
    {
     "cell_type": "code",
     "collapsed": false,
     "input": [
      "%load_ext autograder"
     ],
     "language": "python",
     "metadata": {},
     "outputs": [],
     "prompt_number": 3
    },
    {
     "cell_type": "code",
     "collapsed": false,
     "input": [
      "%%autograde\n",
      "\n",
      "from nose.tools import eq_ as assert_eq\n",
      "\n",
      "@score(problem=\"hello\", points=0.5)\n",
      "def grade_hello1():\n",
      "    \"\"\"Grade 'hello' with input 'Jessica'\"\"\"\n",
      "    msg = hello(\"Jessica\")\n",
      "    assert_eq(msg, \"Hello, Jessica!\")\n",
      "\n",
      "@score(problem=\"hello\", points=0.5)\n",
      "def grade_hello2():\n",
      "    \"\"\"Grade 'hello' with input 'Python'\"\"\"\n",
      "    msg = hello(\"Python\")\n",
      "    assert_eq(msg, \"Hello, Python!\")\n",
      "\n",
      "@score(problem=\"goodbye\", points=0.5)\n",
      "def grade_goodbye1():\n",
      "    \"\"\"Grade 'goodbye' with input 'Jessica'\"\"\"\n",
      "    msg = goodbye(\"Jessica\")\n",
      "    assert_eq(msg, \"Goodbye, Jessica\")\n",
      "\n",
      "@score(problem=\"goodbye\", points=0.5)\n",
      "def grade_goodbye2():\n",
      "    \"\"\"Grade 'goodbye' with input 'Python'\"\"\"\n",
      "    msg = goodbye(\"Python\")\n",
      "    assert_eq(msg, \"Goodbye, Python\")"
     ],
     "language": "python",
     "metadata": {},
     "outputs": [
      {
       "output_type": "stream",
       "stream": "stderr",
       "text": [
        "Grade 'hello' with input 'Jessica' ... "
       ]
      },
      {
       "output_type": "stream",
       "stream": "stderr",
       "text": [
        "ok\n",
        "Grade 'hello' with input 'Python' ... "
       ]
      },
      {
       "output_type": "stream",
       "stream": "stderr",
       "text": [
        "ok\n",
        "Grade 'goodbye' with input 'Jessica' ... "
       ]
      },
      {
       "output_type": "stream",
       "stream": "stderr",
       "text": [
        "ok\n",
        "Grade 'goodbye' with input 'Python' ... "
       ]
      },
      {
       "output_type": "stream",
       "stream": "stderr",
       "text": [
        "FAIL\n",
        "\n",
        "======================================================================\n",
        "FAIL: Grade 'goodbye' with input 'Python'\n",
        "----------------------------------------------------------------------\n",
        "Traceback (most recent call last):\n",
        "  File \"/usr/local/lib/python2.7/site-packages/nose/case.py\", line 197, in runTest\n",
        "    self.test(*self.arg)\n",
        "  File \"/Users/jhamrick/project/nbgrader/autograder.py\", line 32, in wrapped_f\n",
        "    f(*args)\n",
        "  File \"<ipython-input-4-85d92e45bbd5>\", line 26, in grade_goodbye2\n",
        "    assert_eq(msg, \"Goodbye, Python\")\n",
        "AssertionError: 'Goodbye, Jessica' != 'Goodbye, Python'\n",
        "\n",
        "----------------------------------------------------------------------\n",
        "Ran 4 tests in 0.003s\n",
        "\n",
        "FAILED (failures=1)\n"
       ]
      },
      {
       "html": [
        "<div style=\"max-height:1000px;max-width:1500px;overflow:auto;\">\n",
        "<table border=\"1\" class=\"dataframe\">\n",
        "  <thead>\n",
        "    <tr style=\"text-align: right;\">\n",
        "      <th></th>\n",
        "      <th>score</th>\n",
        "      <th>max_score</th>\n",
        "    </tr>\n",
        "  </thead>\n",
        "  <tbody>\n",
        "    <tr>\n",
        "      <th>goodbye</th>\n",
        "      <td> 0.5</td>\n",
        "      <td> 1</td>\n",
        "    </tr>\n",
        "    <tr>\n",
        "      <th>hello</th>\n",
        "      <td> 1.0</td>\n",
        "      <td> 1</td>\n",
        "    </tr>\n",
        "  </tbody>\n",
        "</table>\n",
        "<p>2 rows \u00d7 2 columns</p>\n",
        "</div>"
       ],
       "metadata": {},
       "output_type": "pyout",
       "prompt_number": 4,
       "text": [
        "         score  max_score\n",
        "goodbye    0.5          1\n",
        "hello      1.0          1\n",
        "\n",
        "[2 rows x 2 columns]"
       ]
      }
     ],
     "prompt_number": 4
    }
   ],
   "metadata": {}
  }
 ]
}